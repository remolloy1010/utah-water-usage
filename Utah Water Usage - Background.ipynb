{
 "cells": [
  {
   "cell_type": "markdown",
   "metadata": {},
   "source": [
    "## **Summary**\n",
    "\n",
    "In this project, I investigate water usage in Utah from 2015 - 2019. As a resident, I am interested in understanding the breakdown of water usage residentially, agriculturally, industrially, commercially, and institutionally. I explore how water usage has changed over the years, and how this compares to water supply and precipitation over the years. I would like to use this analysis to inform local officials in order to establish more informed policy decisions around local water usage. I break this analysis down into 3 phases: water usage, water supply, and forecasting over time as our population is expected to grow. \n"
   ]
  },
  {
   "cell_type": "markdown",
   "metadata": {},
   "source": [
    "## **Background**\n",
    "\n",
    "I've lived in Utah for about 2.5 years now..."
   ]
  },
  {
   "cell_type": "markdown",
   "metadata": {},
   "source": [
    "## **Dataset and Methodology**\n",
    "\n",
    "### Source\n",
    "\n",
    "### Methodology\n",
    "\n",
    "### Definitions"
   ]
  },
  {
   "cell_type": "markdown",
   "metadata": {},
   "source": [
    "## **Assumptions**"
   ]
  },
  {
   "cell_type": "markdown",
   "metadata": {},
   "source": [
    "## **Exploratory Questions**\n",
    "\n",
    "* How has water usage in Utah changed between 2015 - 2019?\n",
    "* How much state-wide water is used residentially, industrially, institutionally, and commercially? What does this breakdown look like over the years for both potable (treated) and secondary (untreated) water?\n",
    "* Which counties use the most and least water in gallons per capita per day? Are there policies that may be influencing this?\n",
    "* Do we see a significant difference between secondary water usage in Salt Lake County (where it's metered) vs other counties (where it's not metered)?\n",
    "\n",
    "* Jordan River Basin:\n",
    "    - What does water usage in the Jordan River Basin look like? How does it compare to other basins in Utah?\n",
    "    - What water source feeds the Jordan River basin?\n",
    "    - What has supply in this basin looked like over the years? "
   ]
  },
  {
   "cell_type": "code",
   "execution_count": null,
   "metadata": {},
   "outputs": [],
   "source": []
  }
 ],
 "metadata": {
  "kernelspec": {
   "display_name": "Python 3",
   "language": "python",
   "name": "python3"
  },
  "language_info": {
   "codemirror_mode": {
    "name": "ipython",
    "version": 3
   },
   "file_extension": ".py",
   "mimetype": "text/x-python",
   "name": "python",
   "nbconvert_exporter": "python",
   "pygments_lexer": "ipython3",
   "version": "3.7.6"
  }
 },
 "nbformat": 4,
 "nbformat_minor": 4
}
