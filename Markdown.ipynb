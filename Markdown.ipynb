{
 "cells": [
  {
   "cell_type": "markdown",
   "metadata": {},
   "source": [
    "## Learnings\n",
    "\n",
    "While limited in scope, this introductory exploratory analysis provided me with a few key learnings:\n",
    "\n",
    "**Technical Skills**\n",
    "\n",
    "* Jupyter Notebooks, sourcing external files, etc.\n",
    "* Setting up / maintaining virtual environments\n",
    "* Python refresher\n",
    "* Data Cleaning / Processing with Python (pandas, numpy)\n",
    "* Data Visualizations with Python (plotly)\n"
   ]
  },
  {
   "cell_type": "code",
   "execution_count": null,
   "metadata": {},
   "outputs": [],
   "source": []
  }
 ],
 "metadata": {
  "kernelspec": {
   "display_name": "Python 3",
   "language": "python",
   "name": "python3"
  },
  "language_info": {
   "codemirror_mode": {
    "name": "ipython",
    "version": 3
   },
   "file_extension": ".py",
   "mimetype": "text/x-python",
   "name": "python",
   "nbconvert_exporter": "python",
   "pygments_lexer": "ipython3",
   "version": "3.7.6"
  }
 },
 "nbformat": 4,
 "nbformat_minor": 4
}
