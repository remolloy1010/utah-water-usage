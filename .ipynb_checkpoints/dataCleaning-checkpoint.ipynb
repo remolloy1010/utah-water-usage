{
 "cells": [
  {
   "cell_type": "code",
   "execution_count": 2,
   "metadata": {},
   "outputs": [],
   "source": [
    "%run 'utils.py'"
   ]
  },
  {
   "cell_type": "code",
   "execution_count": 3,
   "metadata": {},
   "outputs": [],
   "source": [
    "# Import state-wide data\n",
    "state_MI_2015 = import_data(\"state\", \"2015\")\n",
    "state_MI_2016 = import_data(\"state\", \"2016\")\n",
    "state_MI_2017 = import_data(\"state\", \"2017\")\n",
    "state_MI_2018 = import_data(\"state\", \"2018\")\n",
    "state_MI_2019 = import_data(\"state\", \"2019\")\n",
    "\n",
    "# Import county-wide data\n",
    "county_MI_2015 = import_data(\"county\", \"2015\")\n",
    "county_MI_2016 = import_data(\"county\", \"2016\")\n",
    "county_MI_2017 = import_data(\"county\", \"2017\")\n",
    "county_MI_2018 = import_data(\"county\", \"2018\")\n",
    "county_MI_2019 = import_data(\"county\", \"2019\")"
   ]
  },
  {
   "cell_type": "code",
   "execution_count": 4,
   "metadata": {},
   "outputs": [],
   "source": [
    "# Merge all state data to one dataframe\n",
    "df_state = pd.concat([state_MI_2015, state_MI_2016, state_MI_2017, state_MI_2018, state_MI_2019])"
   ]
  },
  {
   "cell_type": "code",
   "execution_count": 6,
   "metadata": {},
   "outputs": [],
   "source": [
    "# Get means\n",
    "df_state_means = pd.DataFrame(df_state.describe().loc['mean']).transpose()\n",
    "\n",
    "sum_pot = float(df_state_means['ResPotGPCD'] + df_state_means['ComPotGPCD'] + df_state_means['InsPotGPCD'] + df_state_means['IndPotGPCD'])\n",
    "sum_sec = float(df_state_means['ResSecGPCD'] + df_state_means['ComSecGPCD'] + df_state_means['InsSecGPCD'] + df_state_means['IndSecGPCD'])\n",
    "\n",
    "df_state_means = df_state_means.assign(Perc_ResPotGPCD = float((df_state_means['ResPotGPCD'] / sum_pot) * 100))\n",
    "df_state_means = df_state_means.assign(Perc_ComPotGPCD = float(df_state_means['ComPotGPCD'] / sum_pot) * 100)\n",
    "df_state_means = df_state_means.assign(Perc_InsPotGPCD = float(df_state_means['InsPotGPCD'] / sum_pot) * 100)\n",
    "df_state_means = df_state_means.assign(Perc_IndPotGPCD = float(df_state_means['IndPotGPCD'] / sum_pot) * 100)\n",
    "df_state_means = df_state_means.assign(Perc_ResSecGPCD = float(df_state_means['ResSecGPCD'] / sum_sec) * 100)\n",
    "df_state_means = df_state_means.assign(Perc_ComSecGPCD = float(df_state_means['ComSecGPCD'] / sum_sec) * 100)\n",
    "df_state_means = df_state_means.assign(Perc_InsSecGPCD = float(df_state_means['InsSecGPCD'] / sum_sec) * 100)\n",
    "df_state_means = df_state_means.assign(Perc_IndSecGPCD = float(df_state_means['IndSecGPCD'] / sum_sec) * 100)"
   ]
  }
 ],
 "metadata": {
  "kernelspec": {
   "display_name": "Python 3",
   "language": "python",
   "name": "python3"
  },
  "language_info": {
   "codemirror_mode": {
    "name": "ipython",
    "version": 3
   },
   "file_extension": ".py",
   "mimetype": "text/x-python",
   "name": "python",
   "nbconvert_exporter": "python",
   "pygments_lexer": "ipython3",
   "version": "3.7.6"
  }
 },
 "nbformat": 4,
 "nbformat_minor": 4
}
