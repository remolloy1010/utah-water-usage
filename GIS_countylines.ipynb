{
 "cells": [
  {
   "cell_type": "markdown",
   "metadata": {},
   "source": [
    "# Geospatial Data of Utah Counties"
   ]
  },
  {
   "cell_type": "markdown",
   "metadata": {},
   "source": [
    "Outline:\n",
    "\n",
    "1. Install dependent packages\n",
    "2. Get API key\n",
    "3. Fetch spatial shapefile for given area\n",
    "4. "
   ]
  },
  {
   "cell_type": "code",
   "execution_count": 1,
   "metadata": {},
   "outputs": [],
   "source": [
    "# Install dependency packages\n",
    "pip install geopandas\n"
   ]
  },
  {
   "cell_type": "code",
   "execution_count": 4,
   "metadata": {},
   "outputs": [],
   "source": [
    "# Get Census Data using API\n",
    "import requests\n",
    "\n",
    "HOST = 'https://api.census.gov/data'\n",
    "year = \"2010\"\n",
    "dataset = 'dec/sf1' # dec = decennial, sf = summary file, 1= full data\n",
    "base_url = \"/\".join([HOST, year, dataset])\n",
    "predicates = {} # the census refers to parameters as predicates\n",
    "get_vars = [\"NAME\", \"AREALAND\", \"P001001\"] # name of geographic unit, area of land, and population"
   ]
  },
  {
   "cell_type": "code",
   "execution_count": null,
   "metadata": {},
   "outputs": [],
   "source": []
  }
 ],
 "metadata": {
  "kernelspec": {
   "display_name": "Python 3",
   "language": "python",
   "name": "python3"
  },
  "language_info": {
   "codemirror_mode": {
    "name": "ipython",
    "version": 3
   },
   "file_extension": ".py",
   "mimetype": "text/x-python",
   "name": "python",
   "nbconvert_exporter": "python",
   "pygments_lexer": "ipython3",
   "version": "3.7.6"
  }
 },
 "nbformat": 4,
 "nbformat_minor": 4
}
